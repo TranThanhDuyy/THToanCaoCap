{
  "nbformat": 4,
  "nbformat_minor": 0,
  "metadata": {
    "colab": {
      "name": "Bản sao của Chuong1.ipynb",
      "provenance": [],
      "authorship_tag": "ABX9TyOV9t9YawtNba2MD8Gn4/lH",
      "include_colab_link": true
    },
    "kernelspec": {
      "name": "python3",
      "display_name": "Python 3"
    },
    "language_info": {
      "name": "python"
    }
  },
  "cells": [
    {
      "cell_type": "markdown",
      "metadata": {
        "id": "view-in-github",
        "colab_type": "text"
      },
      "source": [
        "<a href=\"https://colab.research.google.com/github/TranThanhDuyy/THToanCaoCap/blob/main/Chuong1%20v%C3%A0%20Ch%C6%B0%C6%A1ng%202.ipynb\" target=\"_parent\"><img src=\"https://colab.research.google.com/assets/colab-badge.svg\" alt=\"Open In Colab\"/></a>"
      ]
    },
    {
      "cell_type": "code",
      "execution_count": 23,
      "metadata": {
        "id": "rn_4YfZNpzak"
      },
      "outputs": [],
      "source": [
        "#TH1:\n",
        "N = 100\n",
        "dayS = [1/2**k for k in range(0,N)]"
      ]
    },
    {
      "cell_type": "code",
      "source": [
        "len(dayS)"
      ],
      "metadata": {
        "id": "diqxVA6vwIi7",
        "outputId": "ec9874c8-fbe8-434a-e121-760e37dbd85a",
        "colab": {
          "base_uri": "https://localhost:8080/"
        }
      },
      "execution_count": 24,
      "outputs": [
        {
          "output_type": "execute_result",
          "data": {
            "text/plain": [
              "100"
            ]
          },
          "metadata": {},
          "execution_count": 24
        }
      ]
    },
    {
      "cell_type": "code",
      "source": [
        "sum(dayS)"
      ],
      "metadata": {
        "id": "2noPmOBrwKtB",
        "outputId": "d23a0445-bc5b-4ea9-ef4b-f35d3c193213",
        "colab": {
          "base_uri": "https://localhost:8080/"
        }
      },
      "execution_count": 25,
      "outputs": [
        {
          "output_type": "execute_result",
          "data": {
            "text/plain": [
              "2.0"
            ]
          },
          "metadata": {},
          "execution_count": 25
        }
      ]
    },
    {
      "cell_type": "code",
      "source": [
        "n = 1000 \n",
        "X = [(2-0)*k/n for k in range(0; n+1)]"
      ],
      "metadata": {
        "id": "BqQmUuTBwMLj",
        "outputId": "c70141ec-bc67-4f2e-e553-36badc903948",
        "colab": {
          "base_uri": "https://localhost:8080/",
          "height": 130
        }
      },
      "execution_count": 26,
      "outputs": [
        {
          "output_type": "error",
          "ename": "SyntaxError",
          "evalue": "ignored",
          "traceback": [
            "\u001b[0;36m  File \u001b[0;32m\"<ipython-input-26-5f72a71efc79>\"\u001b[0;36m, line \u001b[0;32m2\u001b[0m\n\u001b[0;31m    X = [(2-0)*k/n for k in range(0; n+1)]\u001b[0m\n\u001b[0m                                   ^\u001b[0m\n\u001b[0;31mSyntaxError\u001b[0m\u001b[0;31m:\u001b[0m invalid syntax\n"
          ]
        }
      ]
    },
    {
      "cell_type": "code",
      "source": [
        "n = 100000000\n",
        "S = 0\n",
        "for k in range(1, n+1)\n",
        "  S = S + X[k]**2 * (X[k] - X[k-1])\n",
        "print(S) "
      ],
      "metadata": {
        "id": "b_0VTNlfwOMp"
      },
      "execution_count": null,
      "outputs": []
    },
    {
      "cell_type": "code",
      "source": [
        "#TH2:\n",
        "from sympy import *\n",
        "a = Rational (1,2)"
      ],
      "metadata": {
        "id": "SnH5JY7DwRwG"
      },
      "execution_count": null,
      "outputs": []
    },
    {
      "cell_type": "code",
      "source": [
        "oo > 99999"
      ],
      "metadata": {
        "id": "t-ACaz0ywa5g"
      },
      "execution_count": null,
      "outputs": []
    },
    {
      "cell_type": "code",
      "source": [
        "oo + 1"
      ],
      "metadata": {
        "id": "JPwgUY2zwcf4"
      },
      "execution_count": null,
      "outputs": []
    },
    {
      "cell_type": "code",
      "source": [
        "#TH3:\n",
        "Rational(1,2) + Rational(1,3)"
      ],
      "metadata": {
        "id": "5CK9ilqcwd_k"
      },
      "execution_count": null,
      "outputs": []
    },
    {
      "cell_type": "code",
      "source": [
        "Rational(1,2) + 1"
      ],
      "metadata": {
        "id": "Wq5SEUWkwpXg"
      },
      "execution_count": null,
      "outputs": []
    },
    {
      "cell_type": "code",
      "source": [
        "Rational(1,3) +1+1,5"
      ],
      "metadata": {
        "id": "9I3Ib0Kawq4s"
      },
      "execution_count": null,
      "outputs": []
    },
    {
      "cell_type": "code",
      "source": [
        "#TH4:\n",
        "from sympy import *\n",
        "x = Symbol('x')\n",
        "y = Symbol ('y')\n",
        "x+y+x-y"
      ],
      "metadata": {
        "id": "5AYePqXXwzcp"
      },
      "execution_count": null,
      "outputs": []
    },
    {
      "cell_type": "code",
      "source": [
        "(x+y)**2"
      ],
      "metadata": {
        "id": "kMXP-13Uw6nz"
      },
      "execution_count": null,
      "outputs": []
    },
    {
      "cell_type": "code",
      "source": [
        "#TH5a:\n",
        "from sympy.solvers.solvers import denoms\n",
        "eq = (1/x)*1/(x-3)\n",
        "dd = denoms(eq) \n",
        "print(dd)"
      ],
      "metadata": {
        "id": "VQX8eaYNxIG3"
      },
      "execution_count": null,
      "outputs": []
    },
    {
      "cell_type": "code",
      "source": [
        "eq = (1+1/x)/(x-1)\n",
        "from sympy.solvers.solvers import denoms\n",
        "loai_tru = set()\n",
        "for d in denoms(eq):\n",
        "  for s in solve(d):\n",
        "    loai_tru.add(s)\n",
        "print(loai_tru)"
      ],
      "metadata": {
        "id": "Cd0ksUzCxPg3"
      },
      "execution_count": null,
      "outputs": []
    },
    {
      "cell_type": "code",
      "source": [
        "#TH6:\n",
        "from sympy import Symbol \n",
        "x =  Symbol('x ', positive= True )\n",
        "if (x+3>0 ): \n",
        "  print('Chắc chắn x + 3 dương')\n",
        "else:\n",
        "  print('x+3 chưa chắc dương ')"
      ],
      "metadata": {
        "id": "8tCavot6xSF9"
      },
      "execution_count": null,
      "outputs": []
    },
    {
      "cell_type": "code",
      "source": [
        "#TH7:\n",
        "import math\n",
        "math.sin(math.pi/2 )"
      ],
      "metadata": {
        "id": "5Nov4Sb0xXa9"
      },
      "execution_count": null,
      "outputs": []
    },
    {
      "cell_type": "code",
      "source": [
        "import sympy\n",
        "sympy. sin(math.pi/2 )"
      ],
      "metadata": {
        "id": "kBNsrCUdxbY0"
      },
      "execution_count": null,
      "outputs": []
    },
    {
      "cell_type": "code",
      "source": [
        "#TH8:\n",
        "from sympy import sin, solve, Symbol \n",
        "u= Symbol('u')\n",
        "t= Symbol('t')\n",
        "g= Symbol('g')\n",
        "theta= Symbol('theta')\n",
        "solve(u*sin(theta)-g*t, t )"
      ],
      "metadata": {
        "id": "SztLH-RWxdr-"
      },
      "execution_count": null,
      "outputs": []
    },
    {
      "cell_type": "code",
      "source": [
        "#TH9:\n",
        "from sympy import Limit, Symbol, S\n",
        "x= Symbol ('x')\n",
        "Limit(1/x,x,S.Infinity)"
      ],
      "metadata": {
        "id": "P6BlcNIcxg9Q"
      },
      "execution_count": null,
      "outputs": []
    },
    {
      "cell_type": "code",
      "source": [
        "gioihan= Limit(1/x,x,S.Infinity )\n",
        "gioihan.doit( )"
      ],
      "metadata": {
        "id": "-MlZmEKBxkiB"
      },
      "execution_count": null,
      "outputs": []
    },
    {
      "cell_type": "code",
      "source": [
        "#TH10a:\n",
        "from sympy import Limit \n",
        "Limit(1/x,x,0, dir=\"-\").doit()"
      ],
      "metadata": {
        "id": "05869cvdxm0i"
      },
      "execution_count": null,
      "outputs": []
    },
    {
      "cell_type": "code",
      "source": [
        "from sympy import Limit \n",
        "Limit(1/x,x,0, dir=\"+\").doit()"
      ],
      "metadata": {
        "id": "NwZfrxgXxsSK"
      },
      "execution_count": null,
      "outputs": []
    },
    {
      "cell_type": "code",
      "source": [
        "#TH10b:\n",
        "from sympy import Symbol, sin\n",
        "x = Symbol('x')\n",
        "Limit(sin(x)/x, x, 0).doit()"
      ],
      "metadata": {
        "id": "XJCPgfnOxvbQ"
      },
      "execution_count": null,
      "outputs": []
    },
    {
      "cell_type": "code",
      "source": [
        "#TH11:\n",
        "from sympy import Limit, sin, S\n",
        "Limit(x*sin(1/x), x, S.Infinity)"
      ],
      "metadata": {
        "id": "7w6MLtvcxzmW"
      },
      "execution_count": null,
      "outputs": []
    },
    {
      "cell_type": "code",
      "source": [
        "#TH12:\n",
        "from sympy import Symbol, Limit, S\n",
        "n = Symbol('n')\n",
        "p = Symbol('p',positive=True)\n",
        "r = Symbol('r',positive=True)\n",
        "t = Symbol('t',positive=True)\n",
        "Limit(p*(1+r/n)**(n*t),n,S.Infinity).doit()"
      ],
      "metadata": {
        "id": "UR8nCE0JyOK1"
      },
      "execution_count": null,
      "outputs": []
    },
    {
      "cell_type": "code",
      "source": [
        "#TH13:\n",
        "from sympy import Symbol, Limit\n",
        "t = Symbol('t')\n",
        "St = 5*t**2 + 2*t + 8\n",
        "t1 = Symbol('t1')\n",
        "delta_t = Symbol('delta_t')\n",
        "St1 = St.subs({t: t1})\n",
        "St1_delta = St.subs({t: t1 +delta_t})\n",
        "Limit((St1_delta-St1)/delta_t, delta_t, 0).doit()"
      ],
      "metadata": {
        "id": "nnk13HW-yR57"
      },
      "execution_count": null,
      "outputs": []
    },
    {
      "cell_type": "markdown",
      "source": [
        "CHƯƠNG 2:\n"
      ],
      "metadata": {
        "id": "ohfKKRgoTOIX"
      }
    },
    {
      "cell_type": "code",
      "source": [
        "chuoitinhtoan = \"a*b+c\"\n",
        "a = 2\n",
        "b = 5 \n",
        "c= 8 \n",
        "eval(chuoitinhtoan)"
      ],
      "metadata": {
        "id": "MZoAMeGeTjOG"
      },
      "execution_count": null,
      "outputs": []
    },
    {
      "cell_type": "code",
      "source": [
        "danhsach_so = [10,15,20]\n",
        "danhsach_so [0]"
      ],
      "metadata": {
        "id": "v5X-6knlTnU6"
      },
      "execution_count": null,
      "outputs": []
    },
    {
      "cell_type": "code",
      "source": [
        "danhsach_so [2]"
      ],
      "metadata": {
        "id": "0q1bfNttTojA"
      },
      "execution_count": null,
      "outputs": []
    },
    {
      "cell_type": "code",
      "source": [
        "danhsach_so [1]ds = [1,2,3]\n",
        "for so in ds :\n",
        "  print (so)"
      ],
      "metadata": {
        "id": "2Ce21lNOTp0C"
      },
      "execution_count": null,
      "outputs": []
    },
    {
      "cell_type": "code",
      "source": [
        "for chiso , giatri in enumerate(ds):\n",
        "  print(chiso, giatri)"
      ],
      "metadata": {
        "id": "syg1KG41Ts0f"
      },
      "execution_count": null,
      "outputs": []
    },
    {
      "cell_type": "code",
      "source": [
        "from sympy import Symbol \n",
        "x = Symbol('x')\n",
        "y = Symbol('y')\n",
        "bieuthuc = x+y \n"
      ],
      "metadata": {
        "id": "piPiIKzBTuKK"
      },
      "execution_count": null,
      "outputs": []
    },
    {
      "cell_type": "code",
      "source": [
        "thaytheso = bieuthuc.subs({x:10, y:5})\n",
        "thaytheso"
      ],
      "metadata": {
        "id": "DkHsgY_xTvj6"
      },
      "execution_count": null,
      "outputs": []
    },
    {
      "cell_type": "code",
      "source": [
        "u = Symbol('u') \n",
        "v = Symbol('v') "
      ],
      "metadata": {
        "id": "glVyf77ATwy-"
      },
      "execution_count": null,
      "outputs": []
    },
    {
      "cell_type": "code",
      "source": [
        "bieuthuc_theo_uv = bieuthuc.subs({x:u , y:v})\n",
        "bieuthuc_theo_uv"
      ],
      "metadata": {
        "id": "e0oJJqhUTyan"
      },
      "execution_count": null,
      "outputs": []
    },
    {
      "cell_type": "code",
      "source": [
        "thaythe_tinhtoan = bieuthuc.subs({x:2*u*v, y:u**2+v**2}) "
      ],
      "metadata": {
        "id": "JvPk1sYKTzoI"
      },
      "execution_count": null,
      "outputs": []
    },
    {
      "cell_type": "code",
      "source": [
        "thaythe_tinhtoan "
      ],
      "metadata": {
        "id": "bvzxun9qT1Y6"
      },
      "execution_count": null,
      "outputs": []
    },
    {
      "cell_type": "code",
      "source": [
        "thaythe_tinhtoan.factor() "
      ],
      "metadata": {
        "id": "E4LiuRkcT2ml"
      },
      "execution_count": null,
      "outputs": []
    },
    {
      "cell_type": "code",
      "source": [
        "from sympy import Symbol \n",
        " x = Symbol('x')\n",
        " y = Symbol('y')\n",
        " bieuthuc = x + y\n"
      ],
      "metadata": {
        "id": "XOs6CT80T3kb"
      },
      "execution_count": null,
      "outputs": []
    },
    {
      "cell_type": "code",
      "source": [
        "bieuthuc2 = x**2 + y**2 \n",
        "bieuthuc2"
      ],
      "metadata": {
        "id": "2ZIgoXrLT5c3"
      },
      "execution_count": null,
      "outputs": []
    },
    {
      "cell_type": "code",
      "source": [
        "u = Symbol('u') \n",
        "v = Symbol('v')\n",
        "a = Symbol('a')\n",
        "from sympy import sin, cos\n",
        "bieuthuc_theo_uv = bieuthuc2.subs({x : a*sin(u), y : a*cos(u)}) \n",
        "\n",
        "\n"
      ],
      "metadata": {
        "id": "bpA6KsAdT6xY"
      },
      "execution_count": null,
      "outputs": []
    },
    {
      "cell_type": "code",
      "source": [
        "bieuthuc_theo_uv.factor()"
      ],
      "metadata": {
        "id": "ghvhPygmT8cG"
      },
      "execution_count": null,
      "outputs": []
    },
    {
      "cell_type": "code",
      "source": [
        "bieuthuc_theo_uv.simplify()"
      ],
      "metadata": {
        "id": "K0A9u4s3T98G"
      },
      "execution_count": null,
      "outputs": []
    }
  ]
}