{
  "nbformat": 4,
  "nbformat_minor": 0,
  "metadata": {
    "colab": {
      "name": "Bản sao của Chuong1.ipynb",
      "provenance": [],
      "authorship_tag": "ABX9TyPcZMLMWe3dn0ZWlLKww+dB",
      "include_colab_link": true
    },
    "kernelspec": {
      "name": "python3",
      "display_name": "Python 3"
    },
    "language_info": {
      "name": "python"
    }
  },
  "cells": [
    {
      "cell_type": "markdown",
      "metadata": {
        "id": "view-in-github",
        "colab_type": "text"
      },
      "source": [
        "<a href=\"https://colab.research.google.com/github/TranThanhDuyy/THToanCaoCap/blob/main/B%E1%BA%A3n_sao_c%E1%BB%A7a_Chuong1.ipynb\" target=\"_parent\"><img src=\"https://colab.research.google.com/assets/colab-badge.svg\" alt=\"Open In Colab\"/></a>"
      ]
    },
    {
      "cell_type": "code",
      "execution_count": null,
      "metadata": {
        "colab": {
          "base_uri": "https://localhost:8080/"
        },
        "id": "rn_4YfZNpzak",
        "outputId": "0d0aa8e7-a793-4029-895f-e2f06eb5633b"
      },
      "outputs": [
        {
          "output_type": "stream",
          "name": "stdout",
          "text": [
            "hello\n"
          ]
        }
      ],
      "source": [
        "#TH1:\n",
        "N = 100\n",
        "dayS = [1/2**k for k in range(0,N)]"
      ]
    },
    {
      "cell_type": "code",
      "source": [
        "len(dayS)"
      ],
      "metadata": {
        "id": "diqxVA6vwIi7"
      },
      "execution_count": null,
      "outputs": []
    },
    {
      "cell_type": "code",
      "source": [
        "sum(dayS)"
      ],
      "metadata": {
        "id": "2noPmOBrwKtB"
      },
      "execution_count": null,
      "outputs": []
    },
    {
      "cell_type": "code",
      "source": [
        "n = 1000 \n",
        "X = [(2-0)*k/n for k in range(0; n+1)]"
      ],
      "metadata": {
        "id": "BqQmUuTBwMLj"
      },
      "execution_count": null,
      "outputs": []
    },
    {
      "cell_type": "code",
      "source": [
        "n = 100000000\n",
        "S = 0\n",
        "for k in range(1, n+1)\n",
        "  S = S + X[k]**2 * (X[k] - X[k-1])\n",
        "print(S) "
      ],
      "metadata": {
        "id": "b_0VTNlfwOMp"
      },
      "execution_count": null,
      "outputs": []
    },
    {
      "cell_type": "code",
      "source": [
        "#TH2:\n",
        "from sympy import *\n",
        "a = Rational (1,2)"
      ],
      "metadata": {
        "id": "SnH5JY7DwRwG"
      },
      "execution_count": null,
      "outputs": []
    },
    {
      "cell_type": "code",
      "source": [
        "oo > 99999"
      ],
      "metadata": {
        "id": "t-ACaz0ywa5g",
        "outputId": "79030c7e-cb8f-45b0-8d8d-d1b335b8c4a5",
        "colab": {
          "base_uri": "https://localhost:8080/",
          "height": 38
        }
      },
      "execution_count": null,
      "outputs": [
        {
          "output_type": "execute_result",
          "data": {
            "text/latex": "$\\displaystyle \\text{True}$",
            "text/plain": [
              "True"
            ]
          },
          "metadata": {},
          "execution_count": 5
        }
      ]
    },
    {
      "cell_type": "code",
      "source": [
        "oo + 1"
      ],
      "metadata": {
        "id": "JPwgUY2zwcf4",
        "outputId": "d6138443-3000-420a-bba5-6ad8be6f5dbb",
        "colab": {
          "base_uri": "https://localhost:8080/",
          "height": 38
        }
      },
      "execution_count": null,
      "outputs": [
        {
          "output_type": "execute_result",
          "data": {
            "text/latex": "$\\displaystyle \\infty$",
            "text/plain": [
              "oo"
            ]
          },
          "metadata": {},
          "execution_count": 4
        }
      ]
    },
    {
      "cell_type": "code",
      "source": [
        "#TH3:\n",
        "Rational(1,2) + Rational(1,3)"
      ],
      "metadata": {
        "id": "5CK9ilqcwd_k",
        "outputId": "d70f2606-d74f-4a4b-f049-3d3f8a6970be",
        "colab": {
          "base_uri": "https://localhost:8080/",
          "height": 51
        }
      },
      "execution_count": null,
      "outputs": [
        {
          "output_type": "execute_result",
          "data": {
            "text/latex": "$\\displaystyle \\frac{5}{6}$",
            "text/plain": [
              "5/6"
            ]
          },
          "metadata": {},
          "execution_count": 3
        }
      ]
    },
    {
      "cell_type": "code",
      "source": [
        "Rational(1,2) + 1"
      ],
      "metadata": {
        "id": "Wq5SEUWkwpXg",
        "outputId": "2d712ef4-52c3-4741-ce47-1f71ec86135d",
        "colab": {
          "base_uri": "https://localhost:8080/",
          "height": 51
        }
      },
      "execution_count": null,
      "outputs": [
        {
          "output_type": "execute_result",
          "data": {
            "text/latex": "$\\displaystyle \\frac{3}{2}$",
            "text/plain": [
              "3/2"
            ]
          },
          "metadata": {},
          "execution_count": 2
        }
      ]
    },
    {
      "cell_type": "code",
      "source": [
        "Rational(1,3) +1+1,5"
      ],
      "metadata": {
        "id": "9I3Ib0Kawq4s",
        "outputId": "b8c1d908-ff08-42bd-8d70-b25813829fb9",
        "colab": {
          "base_uri": "https://localhost:8080/"
        }
      },
      "execution_count": null,
      "outputs": [
        {
          "output_type": "execute_result",
          "data": {
            "text/plain": [
              "(7/3, 5)"
            ]
          },
          "metadata": {},
          "execution_count": 7
        }
      ]
    },
    {
      "cell_type": "code",
      "source": [
        "#TH4:\n",
        "from sympy import *\n",
        "x = Symbol('x')\n",
        "y = Symbol ('y')\n",
        "x+y+x-y"
      ],
      "metadata": {
        "id": "5AYePqXXwzcp",
        "outputId": "57db77c4-9b94-4dc3-a0a1-9eb942186518",
        "colab": {
          "base_uri": "https://localhost:8080/",
          "height": 39
        }
      },
      "execution_count": null,
      "outputs": [
        {
          "output_type": "execute_result",
          "data": {
            "text/latex": "$\\displaystyle 2 x$",
            "text/plain": [
              "2*x"
            ]
          },
          "metadata": {},
          "execution_count": 8
        }
      ]
    },
    {
      "cell_type": "code",
      "source": [
        "(x+y)**2"
      ],
      "metadata": {
        "id": "kMXP-13Uw6nz",
        "outputId": "6c1d6b1d-65d9-4e8e-b79f-7a80ae7f9e3b",
        "colab": {
          "base_uri": "https://localhost:8080/",
          "height": 40
        }
      },
      "execution_count": null,
      "outputs": [
        {
          "output_type": "execute_result",
          "data": {
            "text/latex": "$\\displaystyle \\left(x + y\\right)^{2}$",
            "text/plain": [
              "(x + y)**2"
            ]
          },
          "metadata": {},
          "execution_count": 9
        }
      ]
    },
    {
      "cell_type": "code",
      "source": [
        "#TH5a:\n",
        "from sympy.solvers.solvers import denoms\n",
        "eq = (1/x)*1/(x-3)\n",
        "dd = denoms(eq) \n",
        "print(dd)"
      ],
      "metadata": {
        "id": "VQX8eaYNxIG3",
        "outputId": "7663d741-49e0-4ee8-a171-6bb420b4dde8",
        "colab": {
          "base_uri": "https://localhost:8080/"
        }
      },
      "execution_count": null,
      "outputs": [
        {
          "output_type": "stream",
          "name": "stdout",
          "text": [
            "{x, x - 3}\n"
          ]
        }
      ]
    },
    {
      "cell_type": "code",
      "source": [
        "eq = (1+1/x)/(x-1)\n",
        "from sympy.solvers.solvers import denoms\n",
        "loai_tru = set()\n",
        "for d in denoms(eq):\n",
        "  for s in solve(d):\n",
        "    loai_tru.add(s)\n",
        "print(loai_tru)"
      ],
      "metadata": {
        "id": "Cd0ksUzCxPg3",
        "outputId": "85e2077b-dba3-4dce-f4c4-1b5dd23ffeed",
        "colab": {
          "base_uri": "https://localhost:8080/"
        }
      },
      "execution_count": null,
      "outputs": [
        {
          "output_type": "stream",
          "name": "stdout",
          "text": [
            "{0, 1}\n"
          ]
        }
      ]
    },
    {
      "cell_type": "code",
      "source": [
        "#TH6:\n",
        "from sympy import Symbol \n",
        "x =  Symbol('x ', positive= True )\n",
        "if (x+3>0 ): \n",
        "  print('Chắc chắn x + 3 dương')\n",
        "else:\n",
        "  print('x+3 chưa chắc dương ')"
      ],
      "metadata": {
        "id": "8tCavot6xSF9",
        "outputId": "f804b7b2-0da6-4a64-ef7d-020cd9f20870",
        "colab": {
          "base_uri": "https://localhost:8080/"
        }
      },
      "execution_count": null,
      "outputs": [
        {
          "output_type": "stream",
          "name": "stdout",
          "text": [
            "Chắc chắn x + 3 dương\n"
          ]
        }
      ]
    },
    {
      "cell_type": "code",
      "source": [
        "#TH7:\n",
        "import math\n",
        "math.sin(math.pi/2 )"
      ],
      "metadata": {
        "id": "5Nov4Sb0xXa9",
        "outputId": "db172823-2624-4626-e90c-71dee952207d",
        "colab": {
          "base_uri": "https://localhost:8080/"
        }
      },
      "execution_count": null,
      "outputs": [
        {
          "output_type": "execute_result",
          "data": {
            "text/plain": [
              "1.0"
            ]
          },
          "metadata": {},
          "execution_count": 13
        }
      ]
    },
    {
      "cell_type": "code",
      "source": [
        "import sympy\n",
        "sympy. sin(math.pi/2 )"
      ],
      "metadata": {
        "id": "kBNsrCUdxbY0",
        "outputId": "abe3290d-cdab-4297-dd2e-93870b8171fa",
        "colab": {
          "base_uri": "https://localhost:8080/",
          "height": 38
        }
      },
      "execution_count": null,
      "outputs": [
        {
          "output_type": "execute_result",
          "data": {
            "text/latex": "$\\displaystyle 1.0$",
            "text/plain": [
              "1.00000000000000"
            ]
          },
          "metadata": {},
          "execution_count": 14
        }
      ]
    },
    {
      "cell_type": "code",
      "source": [
        "#TH8:\n",
        "from sympy import sin, solve, Symbol \n",
        "u= Symbol('u')\n",
        "t= Symbol('t')\n",
        "g= Symbol('g')\n",
        "theta= Symbol('theta')\n",
        "solve(u*sin(theta)-g*t, t )"
      ],
      "metadata": {
        "id": "SztLH-RWxdr-",
        "outputId": "8ba0f081-4888-4f25-9dd7-61c7a9326c9e",
        "colab": {
          "base_uri": "https://localhost:8080/"
        }
      },
      "execution_count": null,
      "outputs": [
        {
          "output_type": "execute_result",
          "data": {
            "text/plain": [
              "[u*sin(theta)/g]"
            ]
          },
          "metadata": {},
          "execution_count": 15
        }
      ]
    },
    {
      "cell_type": "code",
      "source": [
        "#TH9:\n",
        "from sympy import Limit, Symbol, S\n",
        "x= Symbol ('x')\n",
        "Limit(1/x,x,S.Infinity)"
      ],
      "metadata": {
        "id": "P6BlcNIcxg9Q",
        "outputId": "1c6c4abc-a3a3-42a0-ee9d-c22eee91d382",
        "colab": {
          "base_uri": "https://localhost:8080/",
          "height": 51
        }
      },
      "execution_count": null,
      "outputs": [
        {
          "output_type": "execute_result",
          "data": {
            "text/latex": "$\\displaystyle \\lim_{x \\to \\infty} \\frac{1}{x}$",
            "text/plain": [
              "Limit(1/x, x, oo, dir='-')"
            ]
          },
          "metadata": {},
          "execution_count": 16
        }
      ]
    },
    {
      "cell_type": "code",
      "source": [
        "gioihan= Limit(1/x,x,S.Infinity )\n",
        "gioihan.doit( )"
      ],
      "metadata": {
        "id": "-MlZmEKBxkiB",
        "outputId": "3519436b-f322-4d93-f592-a7be19ffef59",
        "colab": {
          "base_uri": "https://localhost:8080/",
          "height": 38
        }
      },
      "execution_count": null,
      "outputs": [
        {
          "output_type": "execute_result",
          "data": {
            "text/latex": "$\\displaystyle 0$",
            "text/plain": [
              "0"
            ]
          },
          "metadata": {},
          "execution_count": 17
        }
      ]
    },
    {
      "cell_type": "code",
      "source": [
        "#TH10a:\n",
        "from sympy import Limit \n",
        "Limit(1/x,x,0, dir=\"-\").doit()"
      ],
      "metadata": {
        "id": "05869cvdxm0i",
        "outputId": "4876a9dc-d505-4565-e708-c4b5e4a05d42",
        "colab": {
          "base_uri": "https://localhost:8080/",
          "height": 38
        }
      },
      "execution_count": null,
      "outputs": [
        {
          "output_type": "execute_result",
          "data": {
            "text/latex": "$\\displaystyle -\\infty$",
            "text/plain": [
              "-oo"
            ]
          },
          "metadata": {},
          "execution_count": 18
        }
      ]
    },
    {
      "cell_type": "code",
      "source": [
        "from sympy import Limit \n",
        "Limit(1/x,x,0, dir=\"+\").doit()"
      ],
      "metadata": {
        "id": "NwZfrxgXxsSK",
        "outputId": "76b72b5b-a241-4eaa-9572-8d02efd07b61",
        "colab": {
          "base_uri": "https://localhost:8080/",
          "height": 38
        }
      },
      "execution_count": null,
      "outputs": [
        {
          "output_type": "execute_result",
          "data": {
            "text/latex": "$\\displaystyle \\infty$",
            "text/plain": [
              "oo"
            ]
          },
          "metadata": {},
          "execution_count": 19
        }
      ]
    },
    {
      "cell_type": "code",
      "source": [
        "#TH10b:\n",
        "from sympy import Symbol, sin\n",
        "x = Symbol('x')\n",
        "Limit(sin(x)/x, x, 0).doit()"
      ],
      "metadata": {
        "id": "XJCPgfnOxvbQ",
        "outputId": "9a318ef2-c364-4394-ef22-d138431202d8",
        "colab": {
          "base_uri": "https://localhost:8080/",
          "height": 38
        }
      },
      "execution_count": null,
      "outputs": [
        {
          "output_type": "execute_result",
          "data": {
            "text/latex": "$\\displaystyle 1$",
            "text/plain": [
              "1"
            ]
          },
          "metadata": {},
          "execution_count": 20
        }
      ]
    },
    {
      "cell_type": "code",
      "source": [
        "#TH11:\n",
        "from sympy import Limit, sin, S\n",
        "Limit(x*sin(1/x), x, S.Infinity)"
      ],
      "metadata": {
        "id": "7w6MLtvcxzmW",
        "outputId": "38055a2f-4c2b-4395-9691-8af943cd4ec4",
        "colab": {
          "base_uri": "https://localhost:8080/",
          "height": 58
        }
      },
      "execution_count": null,
      "outputs": [
        {
          "output_type": "execute_result",
          "data": {
            "text/latex": "$\\displaystyle \\lim_{x \\to \\infty}\\left(x \\sin{\\left(\\frac{1}{x} \\right)}\\right)$",
            "text/plain": [
              "Limit(x*sin(1/x), x, oo, dir='-')"
            ]
          },
          "metadata": {},
          "execution_count": 23
        }
      ]
    },
    {
      "cell_type": "code",
      "source": [
        "#TH12:\n",
        "from sympy import Symbol, Limit, S\n",
        "n = Symbol('n')\n",
        "p = Symbol('p',positive=True)\n",
        "r = Symbol('r',positive=True)\n",
        "t = Symbol('t',positive=True)\n",
        "Limit(p*(1+r/n)**(n*t),n,S.Infinity).doit()"
      ],
      "metadata": {
        "id": "UR8nCE0JyOK1",
        "outputId": "e1a4befa-f407-46f4-f3b9-cfc237173a9d",
        "colab": {
          "base_uri": "https://localhost:8080/",
          "height": 39
        }
      },
      "execution_count": null,
      "outputs": [
        {
          "output_type": "execute_result",
          "data": {
            "text/latex": "$\\displaystyle p e^{r t}$",
            "text/plain": [
              "p*exp(r*t)"
            ]
          },
          "metadata": {},
          "execution_count": 24
        }
      ]
    },
    {
      "cell_type": "code",
      "source": [
        "#TH13:\n",
        "from sympy import Symbol, Limit\n",
        "t = Symbol('t')\n",
        "St = 5*t**2 + 2*t + 8\n",
        "t1 = Symbol('t1')\n",
        "delta_t = Symbol('delta_t')\n",
        "St1 = St.subs({t: t1})\n",
        "St1_delta = St.subs({t: t1 +delta_t})\n",
        "Limit((St1_delta-St1)/delta_t, delta_t, 0).doit()"
      ],
      "metadata": {
        "id": "nnk13HW-yR57",
        "outputId": "40bf2871-821f-4400-fa44-0e7915605961",
        "colab": {
          "base_uri": "https://localhost:8080/",
          "height": 39
        }
      },
      "execution_count": null,
      "outputs": [
        {
          "output_type": "execute_result",
          "data": {
            "text/latex": "$\\displaystyle 10 t_{1} + 2$",
            "text/plain": [
              "10*t1 + 2"
            ]
          },
          "metadata": {},
          "execution_count": 25
        }
      ]
    }
  ]
}